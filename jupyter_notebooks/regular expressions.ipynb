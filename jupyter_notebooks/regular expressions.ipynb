{
 "cells": [
  {
   "cell_type": "markdown",
   "metadata": {},
   "source": [
    "Regular expressions\n",
    "\n",
    "https://docs.python.org/3/library/re.html\n",
    "\n",
    "The idea: find matches according to a rule (the pattern) in a string.\n",
    "\n",
    "NOTE: There are many varieties of regex syntax. Make sure to use python's"
   ]
  },
  {
   "cell_type": "code",
   "execution_count": 2,
   "metadata": {},
   "outputs": [
    {
     "name": "stdout",
     "output_type": "stream",
     "text": [
      "Phone Num :  2004-959-559  !\n"
     ]
    }
   ],
   "source": [
    "# simple substitution\n",
    "import re\n",
    "phone = \"2004-959-559  # This is Phone Number\"\n",
    "\n",
    "# Delete Python-style comments\n",
    "num = re.sub(r'#.*$', \"\", phone)\n",
    "print( \"Phone Num : \", num)"
   ]
  },
  {
   "cell_type": "code",
   "execution_count": 3,
   "metadata": {
    "scrolled": true
   },
   "outputs": [
    {
     "name": "stdout",
     "output_type": "stream",
     "text": [
      "matchObj.group() : Cats are smarter than dogs\n",
      "matchObj.group(1) :  Cats\n",
      "matchObj.group(2) :  smarter\n"
     ]
    }
   ],
   "source": [
    "#Simple example:\n",
    "import re\n",
    "\n",
    "line = \"Cats are smarter than dogs\"\n",
    "\n",
    "matchObj = re.match( r'(.*) are (.*?) .*', line, re.M|re.I)\n",
    "\n",
    "if matchObj:\n",
    "   print( \"matchObj.group() :\", matchObj.group())\n",
    "   print( \"matchObj.group(1) : \", matchObj.group(1))\n",
    "   print( \"matchObj.group(2) : \", matchObj.group(2))\n",
    "else:\n",
    "   print( \"No match!!\")"
   ]
  },
  {
   "cell_type": "markdown",
   "metadata": {},
   "source": [
    " \n",
    "This example uses groups to capture parts of the expression:"
   ]
  },
  {
   "cell_type": "code",
   "execution_count": 6,
   "metadata": {},
   "outputs": [
    {
     "name": "stdout",
     "output_type": "stream",
     "text": [
      "[('16', '1,22,49,8', 'KIRC', '0.578947')]\n",
      "id 16, label KIRC, purity 0.578947\n"
     ]
    }
   ],
   "source": [
    "import re\n",
    "\n",
    "prog = re.compile( r\"^Cluster (\\d+): \\(([\\d+,\\s*]+)\\),.*=(\\w*),.* ([\\d.]+)\")\n",
    "string = \"Cluster 16: (1,22,49,8), dominant label=KIRC, purity= 0.578947\"\n",
    "#string = \"excuse me, do you have light?\"\n",
    "result = prog.findall(string)\n",
    "print(result)\n",
    "if len(result) == 1: # what we expect: one match\n",
    "    result = result[0] # we want only the first match\n",
    "    if len(result) == 4:\n",
    "        id = float(result[0])\n",
    "        label = result[2]\n",
    "        purity = float(result[3])\n",
    "        print(\"id %d, label %s, purity %f\" %(id,label,purity))\n",
    "else:\n",
    "    print(\"no match!\")\n"
   ]
  },
  {
   "cell_type": "markdown",
   "metadata": {},
   "source": [
    "Now, try to modify the string, e.g. add a space 'label = KIRC' and run it again"
   ]
  }
 ],
 "metadata": {
  "kernelspec": {
   "display_name": "Python 3",
   "language": "python",
   "name": "python3"
  },
  "language_info": {
   "codemirror_mode": {
    "name": "ipython",
    "version": 3
   },
   "file_extension": ".py",
   "mimetype": "text/x-python",
   "name": "python",
   "nbconvert_exporter": "python",
   "pygments_lexer": "ipython3",
   "version": "3.7.4"
  }
 },
 "nbformat": 4,
 "nbformat_minor": 2
}
